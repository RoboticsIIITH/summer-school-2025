{
 "cells": [
  {
   "cell_type": "code",
   "execution_count": 2,
   "id": "39993fb4",
   "metadata": {},
   "outputs": [
    {
     "name": "stderr",
     "output_type": "stream",
     "text": [
      "100%|██████████| 9.91M/9.91M [00:04<00:00, 2.27MB/s]\n",
      "100%|██████████| 28.9k/28.9k [00:01<00:00, 18.3kB/s]\n",
      "100%|██████████| 1.65M/1.65M [00:15<00:00, 104kB/s] \n",
      "100%|██████████| 4.54k/4.54k [00:00<00:00, 4.02MB/s]\n"
     ]
    }
   ],
   "source": [
    "from torchvision import datasets, transforms\n",
    "\n",
    "# Define transformations for the dataset\n",
    "transform = transforms.Compose([\n",
    "    transforms.ToTensor(),\n",
    "    transforms.Normalize((0.5,), (0.5,))  # Normalize to mean 0.5 and std 0.5\n",
    "])\n",
    "\n",
    "# Download and load the training dataset\n",
    "train_dataset = datasets.MNIST(root='./data', train=True, download=True, transform=transform)\n",
    "\n",
    "# Download and load the test dataset\n",
    "test_dataset = datasets.MNIST(root='./data', train=False, download=True, transform=transform)"
   ]
  },
  {
   "cell_type": "code",
   "execution_count": 3,
   "id": "310d968d",
   "metadata": {},
   "outputs": [],
   "source": [
    "from torch.utils.data import DataLoader\n",
    "\n",
    "train_loader = DataLoader(train_dataset, batch_size=64, shuffle=True)\n",
    "test_loader = DataLoader(test_dataset, batch_size=64, shuffle=False)"
   ]
  },
  {
   "cell_type": "code",
   "execution_count": 8,
   "id": "2154a794",
   "metadata": {},
   "outputs": [],
   "source": [
    "import torch\n",
    "import torch.nn as nn\n",
    "import torch.optim as optim\n",
    "from torchvision import datasets, transforms\n",
    "from torch.utils.data import DataLoader\n",
    "\n",
    "# Define the neural network\n",
    "class MNISTModel(nn.Module):\n",
    "    def __init__(self):\n",
    "        super(MNISTModel, self).__init__()\n",
    "        self.fc1 = nn.Linear(28 * 28, 256)  # Input layer (flattened 28x28 image)\n",
    "        self.fc2 = nn.Linear(256, 128)     # Hidden layer\n",
    "        self.fc3 = nn.Linear(128, 10)      # Output layer (10 classes)\n",
    "        self.relu = nn.ReLU()              # Activation function\n",
    "\n",
    "    def forward(self, x):\n",
    "        x = x.view(-1, 28 * 28)           # Flatten the input\n",
    "        x = self.relu(self.fc1(x))\n",
    "        x = self.relu(self.fc2(x))\n",
    "        x = self.fc3(x)\n",
    "        return x\n"
   ]
  },
  {
   "cell_type": "code",
   "execution_count": 9,
   "id": "3819e814",
   "metadata": {},
   "outputs": [
    {
     "name": "stdout",
     "output_type": "stream",
     "text": [
      "Epoch 1, Loss: 0.3351216193503027\n",
      "Epoch 2, Loss: 0.15198553581215712\n",
      "Epoch 3, Loss: 0.11256155034086343\n",
      "Epoch 4, Loss: 0.09165969217267594\n",
      "Epoch 5, Loss: 0.07969011863676716\n",
      "Test Accuracy: 97.45%\n"
     ]
    }
   ],
   "source": [
    "# Define the training loop\n",
    "def train_model(model, train_loader, criterion, optimizer, device):\n",
    "    model.train()\n",
    "    for epoch in range(5):  # Number of epochs\n",
    "        running_loss = 0.0\n",
    "        for images, labels in train_loader:\n",
    "            images, labels = images.to(device), labels.to(device)\n",
    "\n",
    "            # Zero the parameter gradients\n",
    "            optimizer.zero_grad()\n",
    "\n",
    "            # Forward pass\n",
    "            outputs = model(images)\n",
    "            loss = criterion(outputs, labels)\n",
    "\n",
    "            # Backward pass and optimization\n",
    "            loss.backward()\n",
    "            optimizer.step()\n",
    "\n",
    "            running_loss += loss.item()\n",
    "\n",
    "        print(f\"Epoch {epoch + 1}, Loss: {running_loss / len(train_loader)}\")\n",
    "\n",
    "# Define the evaluation loop\n",
    "def evaluate_model(model, test_loader, device):\n",
    "    model.eval()\n",
    "    correct = 0\n",
    "    total = 0\n",
    "    with torch.no_grad():\n",
    "        for images, labels in test_loader:\n",
    "            images, labels = images.to(device), labels.to(device)\n",
    "            outputs = model(images)\n",
    "            _, predicted = torch.max(outputs.data, 1)\n",
    "            total += labels.size(0)\n",
    "            correct += (predicted == labels).sum().item()\n",
    "\n",
    "    print(f\"Test Accuracy: {100 * correct / total}%\")\n",
    "\n",
    "# Prepare the model, loss function, and optimizer\n",
    "device = torch.device(\"cuda\" if torch.cuda.is_available() else \"cpu\")\n",
    "model = MNISTModel().to(device)\n",
    "criterion = nn.CrossEntropyLoss()\n",
    "optimizer = optim.Adam(model.parameters(), lr=0.001)\n",
    "\n",
    "# Train and evaluate the model\n",
    "train_model(model, train_loader, criterion, optimizer, device)\n",
    "evaluate_model(model, test_loader, device)"
   ]
  },
  {
   "cell_type": "code",
   "execution_count": 10,
   "id": "db79a823",
   "metadata": {},
   "outputs": [],
   "source": [
    "import matplotlib.pyplot as plt\n",
    "import numpy as np\n",
    "\n",
    "# Function to display random samples with labels and predictions\n",
    "def show_random_samples(model, data_loader, device, num_samples=5):\n",
    "    model.eval()  # Set the model to evaluation mode\n",
    "    samples_shown = 0\n",
    "\n",
    "    with torch.no_grad():\n",
    "        for images, labels in data_loader:\n",
    "            images, labels = images.to(device), labels.to(device)\n",
    "            outputs = model(images)\n",
    "            _, predictions = torch.max(outputs, 1)\n",
    "\n",
    "            # Convert images to numpy for visualization\n",
    "            images = images.cpu().numpy()\n",
    "            labels = labels.cpu().numpy()\n",
    "            predictions = predictions.cpu().numpy()\n",
    "\n",
    "            for i in range(len(images)):\n",
    "                if samples_shown >= num_samples:\n",
    "                    return\n",
    "\n",
    "                # Display the image\n",
    "                plt.imshow(images[i].squeeze(), cmap=\"gray\")\n",
    "                plt.title(f\"Label: {labels[i]}, Prediction: {predictions[i]}\")\n",
    "                plt.axis(\"off\")\n",
    "                plt.show()\n",
    "\n",
    "                samples_shown += 1"
   ]
  },
  {
   "cell_type": "code",
   "execution_count": 11,
   "id": "f233bed6",
   "metadata": {},
   "outputs": [
    {
     "data": {
      "image/png": "[encoded data removed]",
      "text/plain": [
       "<Figure size 640x480 with 1 Axes>"
      ]
     },
     "metadata": {},
     "output_type": "display_data"
    },
    {
     "data": {
      "image/png": "[encoded data removed]",
      "text/plain": [
       "<Figure size 640x480 with 1 Axes>"
      ]
     },
     "metadata": {},
     "output_type": "display_data"
    },
    {
     "data": {
      "image/png": "[encoded data removed]",
      "text/plain": [
       "<Figure size 640x480 with 1 Axes>"
      ]
     },
     "metadata": {},
     "output_type": "display_data"
    },
    {
     "data": {
      "image/png": "[encoded data removed]",
      "text/plain": [
       "<Figure size 640x480 with 1 Axes>"
      ]
     },
     "metadata": {},
     "output_type": "display_data"
    },
    {
     "data": {
      "image/png": "[encoded data removed]",
      "text/plain": [
       "<Figure size 640x480 with 1 Axes>"
      ]
     },
     "metadata": {},
     "output_type": "display_data"
    }
   ],
   "source": [
    "show_random_samples(model, test_loader, device, num_samples=5)"
   ]
  },
  {
   "cell_type": "code",
   "execution_count": null,
   "id": "d18a5b29",
   "metadata": {},
   "outputs": [
    {
     "name": "stdout",
     "output_type": "stream",
     "text": [
      "Epoch 1, Loss: 0.1748551173822712\n",
      "Epoch 2, Loss: 0.17485251301514315\n",
      "Epoch 3, Loss: 0.17485419206464214\n",
      "Epoch 4, Loss: 0.17485432040843882\n",
      "Epoch 5, Loss: 0.17485372534692922\n",
      "Epoch 6, Loss: 0.17485514824896226\n",
      "Epoch 7, Loss: 0.174857654868921\n",
      "Epoch 8, Loss: 0.1748544708656858\n",
      "Epoch 9, Loss: 0.17485645928108362\n",
      "Epoch 10, Loss: 0.17485472517036427\n",
      "Test Accuracy: 12.28%\n"
     ]
    }
   ],
   "source": [
    "# Basic training loop with L1 Loss\n",
    "def basic_train_model(model, train_loader, optimizer, device):\n",
    "    model.train()\n",
    "    for epoch in range(10):  # Number of epochs\n",
    "        total_loss = 0.0\n",
    "        for images, labels in train_loader:\n",
    "            images, labels = images.to(device), labels.to(device)\n",
    "\n",
    "            # Flatten the images (for MLP models)\n",
    "            images = images.view(-1, 28 * 28)\n",
    "\n",
    "            # Zero the parameter gradients\n",
    "            optimizer.zero_grad()\n",
    "\n",
    "            # Forward pass\n",
    "            outputs = model(images.float())\n",
    "            loss = torch.nn.functional.l1_loss(outputs, torch.nn.functional.one_hot(labels, num_classes=10).float())\n",
    "\n",
    "            # Backward pass and optimization\n",
    "            loss.backward()\n",
    "            optimizer.step()\n",
    "\n",
    "            total_loss += loss.item()\n",
    "\n",
    "        print(f\"Epoch {epoch + 1}, Loss: {total_loss / len(train_loader)}\")\n",
    "\n",
    "# Basic evaluation loop\n",
    "def basic_evaluate_model(model, test_loader, device):\n",
    "    model.eval()\n",
    "    correct = 0\n",
    "    total = 0\n",
    "    with torch.no_grad():\n",
    "        for images, labels in test_loader:\n",
    "            images, labels = images.to(device), labels.to(device)\n",
    "\n",
    "            # Flatten the images (for MLP models)\n",
    "            images = images.view(-1, 28 * 28)\n",
    "\n",
    "            # Forward pass\n",
    "            outputs = model(images.float())\n",
    "            _, predicted = torch.max(outputs, 1)\n",
    "            total += labels.size(0)\n",
    "            correct += (predicted == labels).sum().item()\n",
    "\n",
    "    print(f\"Test Accuracy: {100 * correct / total}%\")\n",
    "\n",
    "# Prepare the model, optimizer, and device\n",
    "device = torch.device(\"cuda\" if torch.cuda.is_available() else \"cpu\")\n",
    "basic_model = MNISTModel().to(device)  # Replace with your model\n",
    "optimizer = torch.optim.SGD(model.parameters(), lr=0.1)  # Basic SGD optimizer\n",
    "\n",
    "# Train and evaluate the model\n",
    "basic_train_model(basic_model, train_loader, optimizer, device)\n",
    "basic_evaluate_model(basic_model, test_loader, device)"
   ]
  }
 ],
 "metadata": {
  "kernelspec": {
   "display_name": "base",
   "language": "python",
   "name": "python3"
  },
  "language_info": {
   "codemirror_mode": {
    "name": "ipython",
    "version": 3
   },
   "file_extension": ".py",
   "mimetype": "text/x-python",
   "name": "python",
   "nbconvert_exporter": "python",
   "pygments_lexer": "ipython3",
   "version": "3.12.9"
  }
 },
 "nbformat": 4,
 "nbformat_minor": 5
}
